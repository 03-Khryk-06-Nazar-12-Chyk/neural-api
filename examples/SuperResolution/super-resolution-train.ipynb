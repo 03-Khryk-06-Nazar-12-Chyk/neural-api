{
 "cells": [
  {
   "cell_type": "code",
   "execution_count": 1,
   "metadata": {},
   "outputs": [],
   "source": [
    "has_plant_leaf_disease = False\n",
    "has_tiny_imagenet_200 = True"
   ]
  },
  {
   "cell_type": "code",
   "execution_count": 18,
   "metadata": {},
   "outputs": [
    {
     "name": "stdout",
     "output_type": "stream",
     "text": [
      "Ign:1 https://developer.download.nvidia.com/compute/cuda/repos/ubuntu1804/x86_64  InRelease\n",
      "Hit:2 http://archive.ubuntu.com/ubuntu bionic InRelease\n",
      "Get:3 http://security.ubuntu.com/ubuntu bionic-security InRelease [88.7 kB]\n",
      "Ign:4 https://developer.download.nvidia.com/compute/machine-learning/repos/ubuntu1804/x86_64  InRelease\n",
      "Get:5 http://archive.ubuntu.com/ubuntu bionic-updates InRelease [88.7 kB]      \n",
      "Hit:6 https://developer.download.nvidia.com/compute/cuda/repos/ubuntu1804/x86_64  Release\n",
      "Hit:7 https://developer.download.nvidia.com/compute/machine-learning/repos/ubuntu1804/x86_64  Release\n",
      "Get:9 http://archive.ubuntu.com/ubuntu bionic-backports InRelease [74.6 kB]    \n",
      "Fetched 252 kB in 1s (171 kB/s)                            \n",
      "Reading package lists... Done\n",
      "Reading package lists... Done\n",
      "Building dependency tree       \n",
      "Reading state information... Done\n",
      "unzip is already the newest version (6.0-21ubuntu1).\n",
      "zip is already the newest version (3.0-11build1).\n",
      "lazarus is already the newest version (1.8.2+dfsg-3).\n",
      "subversion is already the newest version (1.9.7-4ubuntu1).\n",
      "git is already the newest version (1:2.17.1-1ubuntu0.6).\n",
      "fpc is already the newest version (3.0.4+dfsg-18ubuntu2).\n",
      "fpc-source is already the newest version (3.0.4+dfsg-18ubuntu2).\n",
      "0 upgraded, 0 newly installed, 0 to remove and 38 not upgraded.\n"
     ]
    }
   ],
   "source": [
    "!apt-get update\n",
    "!apt-get install -y fpc fpc-source lazarus git subversion zip unzip"
   ]
  },
  {
   "cell_type": "code",
   "execution_count": 19,
   "metadata": {},
   "outputs": [
    {
     "name": "stdout",
     "output_type": "stream",
     "text": [
      "Checked out revision 7393.\r\n"
     ]
    }
   ],
   "source": [
    "!svn checkout https://svn.code.sf.net/p/lazarus-ccr/svn/components/multithreadprocs mtprocs"
   ]
  },
  {
   "cell_type": "code",
   "execution_count": 20,
   "metadata": {},
   "outputs": [
    {
     "name": "stdout",
     "output_type": "stream",
     "text": [
      "Already up to date.\n",
      "Processing /tf/k\n",
      "Requirement already satisfied: Keras>=2.2.5 in /usr/local/lib/python3.6/dist-packages (from cai==0.0.7) (2.3.1)\n",
      "Requirement already satisfied: pandas>=0.22.0 in /usr/local/lib/python3.6/dist-packages (from cai==0.0.7) (1.0.3)\n",
      "Requirement already satisfied: scikit-image>=0.15.0 in /usr/local/lib/python3.6/dist-packages (from cai==0.0.7) (0.16.2)\n",
      "Requirement already satisfied: opencv-python>=4.1.2.30 in /usr/local/lib/python3.6/dist-packages (from cai==0.0.7) (4.2.0.34)\n",
      "Requirement already satisfied: scikit-learn>=0.21.0numpy in /usr/local/lib/python3.6/dist-packages (from cai==0.0.7) (0.22.2.post1)\n",
      "Requirement already satisfied: keras-applications>=1.0.6 in /usr/local/lib/python3.6/dist-packages (from Keras>=2.2.5->cai==0.0.7) (1.0.8)\n",
      "Requirement already satisfied: scipy>=0.14 in /usr/local/lib/python3.6/dist-packages (from Keras>=2.2.5->cai==0.0.7) (1.4.1)\n",
      "Requirement already satisfied: h5py in /usr/local/lib/python3.6/dist-packages (from Keras>=2.2.5->cai==0.0.7) (2.10.0)\n",
      "Requirement already satisfied: numpy>=1.9.1 in /usr/local/lib/python3.6/dist-packages (from Keras>=2.2.5->cai==0.0.7) (1.18.2)\n",
      "Requirement already satisfied: six>=1.9.0 in /usr/local/lib/python3.6/dist-packages (from Keras>=2.2.5->cai==0.0.7) (1.14.0)\n",
      "Requirement already satisfied: pyyaml in /usr/local/lib/python3.6/dist-packages (from Keras>=2.2.5->cai==0.0.7) (5.3.1)\n",
      "Requirement already satisfied: keras-preprocessing>=1.0.5 in /usr/local/lib/python3.6/dist-packages (from Keras>=2.2.5->cai==0.0.7) (1.1.0)\n",
      "Requirement already satisfied: python-dateutil>=2.6.1 in /usr/local/lib/python3.6/dist-packages (from pandas>=0.22.0->cai==0.0.7) (2.8.1)\n",
      "Requirement already satisfied: pytz>=2017.2 in /usr/local/lib/python3.6/dist-packages (from pandas>=0.22.0->cai==0.0.7) (2019.3)\n",
      "Requirement already satisfied: PyWavelets>=0.4.0 in /usr/local/lib/python3.6/dist-packages (from scikit-image>=0.15.0->cai==0.0.7) (1.1.1)\n",
      "Requirement already satisfied: matplotlib!=3.0.0,>=2.0.0 in /usr/local/lib/python3.6/dist-packages (from scikit-image>=0.15.0->cai==0.0.7) (3.2.1)\n",
      "Requirement already satisfied: imageio>=2.3.0 in /usr/local/lib/python3.6/dist-packages (from scikit-image>=0.15.0->cai==0.0.7) (2.8.0)\n",
      "Requirement already satisfied: pillow>=4.3.0 in /usr/local/lib/python3.6/dist-packages (from scikit-image>=0.15.0->cai==0.0.7) (7.1.1)\n",
      "Requirement already satisfied: networkx>=2.0 in /usr/local/lib/python3.6/dist-packages (from scikit-image>=0.15.0->cai==0.0.7) (2.4)\n",
      "Requirement already satisfied: joblib>=0.11 in /usr/local/lib/python3.6/dist-packages (from scikit-learn>=0.21.0numpy->cai==0.0.7) (0.14.1)\n",
      "Requirement already satisfied: cycler>=0.10 in /usr/local/lib/python3.6/dist-packages (from matplotlib!=3.0.0,>=2.0.0->scikit-image>=0.15.0->cai==0.0.7) (0.10.0)\n",
      "Requirement already satisfied: kiwisolver>=1.0.1 in /usr/local/lib/python3.6/dist-packages (from matplotlib!=3.0.0,>=2.0.0->scikit-image>=0.15.0->cai==0.0.7) (1.1.0)\n",
      "Requirement already satisfied: pyparsing!=2.0.4,!=2.1.2,!=2.1.6,>=2.0.1 in /usr/local/lib/python3.6/dist-packages (from matplotlib!=3.0.0,>=2.0.0->scikit-image>=0.15.0->cai==0.0.7) (2.4.6)\n",
      "Requirement already satisfied: decorator>=4.3.0 in /usr/local/lib/python3.6/dist-packages (from networkx>=2.0->scikit-image>=0.15.0->cai==0.0.7) (4.4.2)\n",
      "Requirement already satisfied: setuptools in /usr/local/lib/python3.6/dist-packages (from kiwisolver>=1.0.1->matplotlib!=3.0.0,>=2.0.0->scikit-image>=0.15.0->cai==0.0.7) (46.0.0)\n",
      "Building wheels for collected packages: cai\n",
      "  Building wheel for cai (setup.py) ... \u001b[?25ldone\n",
      "\u001b[?25h  Created wheel for cai: filename=cai-0.0.7-py3-none-any.whl size=16469 sha256=cb1435c97e8c3dbd79d4509a7d1bee9bbc429621276d09fba8752c3fc2bce945\n",
      "  Stored in directory: /tmp/pip-ephem-wheel-cache-3h7p__np/wheels/f0/08/19/56f64e8c8cc45b0390e5e7e2f634c4c1aa0212065044fb6442\n",
      "Successfully built cai\n",
      "Installing collected packages: cai\n",
      "  Attempting uninstall: cai\n",
      "    Found existing installation: cai 0.0.7\n",
      "    Uninstalling cai-0.0.7:\n",
      "      Successfully uninstalled cai-0.0.7\n",
      "Successfully installed cai-0.0.7\n"
     ]
    }
   ],
   "source": [
    "import os\n",
    "\n",
    "if not os.path.isdir('k'):\n",
    "  !git clone https://github.com/joaopauloschuler/k-neural-api.git k\n",
    "else:\n",
    "  !cd k && git pull\n",
    "\n",
    "!cd k && pip install ."
   ]
  },
  {
   "cell_type": "code",
   "execution_count": 21,
   "metadata": {},
   "outputs": [
    {
     "name": "stdout",
     "output_type": "stream",
     "text": [
      "Checked out revision 1292.\r\n"
     ]
    }
   ],
   "source": [
    "!svn checkout https://svn.code.sf.net/p/cai/svncode/trunk/lazarus neural-api"
   ]
  },
  {
   "cell_type": "code",
   "execution_count": 12,
   "metadata": {},
   "outputs": [
    {
     "name": "stdout",
     "output_type": "stream",
     "text": [
      "CopySecondaryConfigFile /etc/lazarus/environmentoptions.xml -> /root/.lazarus/environmentoptions.xml\n",
      "Hint: (lazarus) [RunTool] /usr/bin/fpc \"-iWTOTP\"\n",
      "Hint: (lazarus) [RunTool] /usr/bin/fpc \"-va\" \"compilertest.pas\"\n",
      "Hint: (lazarus) Missing state file of MultiThreadProcsLaz 1.2.1: /tf/mtprocs/lib/x86_64-linux/MultiThreadProcsLaz.compiled\n",
      "Hint: (lazarus) [RunTool] /usr/bin/fpc \"-iWTOTP\" \"-Px86_64\" \"-Tlinux\"\n",
      "Hint: (lazarus) [RunTool] /usr/bin/fpc \"-va\" \"-Px86_64\" \"-Tlinux\" \"compilertest.pas\"\n",
      "Info: (lazarus) Execute Title=\"Compile package MultiThreadProcsLaz 1.2.1\"\n",
      "Info: (lazarus) Working Directory=\"/tf/mtprocs/\"\n",
      "Info: (lazarus) Executable=\"/usr/bin/fpc\"\n",
      "Info: (lazarus) Param[0]=\"-B\"\n",
      "Info: (lazarus) Param[1]=\"-MObjFPC\"\n",
      "Info: (lazarus) Param[2]=\"-Scghi\"\n",
      "Info: (lazarus) Param[3]=\"-Cg\"\n",
      "Info: (lazarus) Param[4]=\"-O1\"\n",
      "Info: (lazarus) Param[5]=\"-g\"\n",
      "Info: (lazarus) Param[6]=\"-gl\"\n",
      "Info: (lazarus) Param[7]=\"-l\"\n",
      "Info: (lazarus) Param[8]=\"-vewnhibq\"\n",
      "Info: (lazarus) Param[9]=\"-Fu/usr/lib/lazarus/1.8.2/packager/units/x86_64-linux\"\n",
      "Info: (lazarus) Param[10]=\"-Fu/tf/mtprocs/\"\n",
      "Info: (lazarus) Param[11]=\"-FU/tf/mtprocs/lib/x86_64-linux/\"\n",
      "Info: (lazarus) Param[12]=\"multithreadprocslaz.pas\"\n",
      "Hint: (11030) Start of reading config file /etc/fpc.cfg\n",
      "Hint: (11031) End of reading config file /etc/fpc.cfg\n",
      "Free Pascal Compiler version 3.0.4+dfsg-18ubuntu2 [2018/08/29] for x86_64\n",
      "Copyright (c) 1993-2017 by Florian Klaempfl and others\n",
      "(1002) Target OS: Linux for x86-64\n",
      "(3104) Compiling multithreadprocslaz.pas\n",
      "(3104) Compiling mtprocs.pas\n",
      "(3104) Compiling mtpcpu.pas\n",
      "(3104) Compiling mtputils.pas\n",
      "/tf/mtprocs/mtputils.pas(40,43) Hint: (5024) Parameter \"Data\" not used\n",
      "/tf/mtprocs/multithreadprocslaz.pas(10,10) Hint: (5023) Unit \"MTPUtils\" not used in MultiThreadProcsLaz\n",
      "/tf/mtprocs/multithreadprocslaz.pas(10,20) Hint: (5023) Unit \"MTPCPU\" not used in MultiThreadProcsLaz\n",
      "(1008) 1215 lines compiled, 0.2 sec\n",
      "(1022) 5 hint(s) issued\n"
     ]
    }
   ],
   "source": [
    "!lazbuild mtprocs/multithreadprocslaz.lpk"
   ]
  },
  {
   "cell_type": "code",
   "execution_count": 13,
   "metadata": {},
   "outputs": [
    {
     "name": "stdout",
     "output_type": "stream",
     "text": [
      "Hint: (lazarus) [RunTool] /usr/bin/fpc \"-iWTOTP\"\n",
      "Hint: (lazarus) [RunTool] /usr/bin/fpc \"-va\" \"compilertest.pas\"\n",
      "TProject.DoLoadStateFile Statefile not found: /tf/neural-api/bin/x86_64-linux/units/SuperResolutionTrain.compiled\n",
      "Hint: (lazarus) [RunTool] /usr/bin/fpc \"-iWTOTP\" \"-Px86_64\" \"-Tlinux\"\n",
      "Hint: (lazarus) [RunTool] /usr/bin/fpc \"-va\" \"-Px86_64\" \"-Tlinux\" \"compilertest.pas\"\n",
      "Info: (lazarus) Execute Title=\"Compile Project, Mode: Default, Target: /tf/neural-api/bin/x86_64-linux/bin/SuperResolutionTrain\"\n",
      "Info: (lazarus) Working Directory=\"/tf/neural-api/examples/SuperResolution/\"\n",
      "Info: (lazarus) Executable=\"/usr/bin/fpc\"\n",
      "Info: (lazarus) Param[0]=\"-B\"\n",
      "Info: (lazarus) Param[1]=\"-MObjFPC\"\n",
      "Info: (lazarus) Param[2]=\"-Scghi\"\n",
      "Info: (lazarus) Param[3]=\"-Cg\"\n",
      "Info: (lazarus) Param[4]=\"-O3\"\n",
      "Info: (lazarus) Param[5]=\"-l\"\n",
      "Info: (lazarus) Param[6]=\"-vewnhibq\"\n",
      "Info: (lazarus) Param[7]=\"-Fi/tf/neural-api/neural\"\n",
      "Info: (lazarus) Param[8]=\"-Fi/tf/neural-api/bin/x86_64-linux/units\"\n",
      "Info: (lazarus) Param[9]=\"-Fu/tf/neural-api/neural\"\n",
      "Info: (lazarus) Param[10]=\"-Fu/usr/lib/lazarus/1.8.2/lcl/units/x86_64-linux\"\n",
      "Info: (lazarus) Param[11]=\"-Fu/usr/lib/lazarus/1.8.2/components/lazutils/lib/x86_64-linux\"\n",
      "Info: (lazarus) Param[12]=\"-Fu/tf/mtprocs/lib/x86_64-linux\"\n",
      "Info: (lazarus) Param[13]=\"-Fu/usr/lib/lazarus/1.8.2/packager/units/x86_64-linux\"\n",
      "Info: (lazarus) Param[14]=\"-Fu/tf/neural-api/examples/SuperResolution/\"\n",
      "Info: (lazarus) Param[15]=\"-FU/tf/neural-api/bin/x86_64-linux/units/\"\n",
      "Info: (lazarus) Param[16]=\"-FE/tf/neural-api/bin/x86_64-linux/bin/\"\n",
      "Info: (lazarus) Param[17]=\"-dUseCThreads\"\n",
      "Info: (lazarus) Param[18]=\"-dAVX\"\n",
      "Info: (lazarus) Param[19]=\"-dRelease\"\n",
      "Info: (lazarus) Param[20]=\"SuperResolutionTrain.lpr\"\n",
      "Hint: (11030) Start of reading config file /etc/fpc.cfg\n",
      "Compiling Release Version\n",
      "Hint: (11031) End of reading config file /etc/fpc.cfg\n",
      "Free Pascal Compiler version 3.0.4+dfsg-18ubuntu2 [2018/08/29] for x86_64\n",
      "Copyright (c) 1993-2017 by Florian Klaempfl and others\n",
      "(1002) Target OS: Linux for x86-64\n",
      "(3104) Compiling SuperResolutionTrain.lpr\n",
      "(3104) Compiling /tf/neural-api/neural/neuralnetwork.pas\n",
      "(3104) Compiling /tf/neural-api/neural/neuralvolume.pas\n",
      "/tf/neural-api/neural/neuralnetwork.inc(32,4) Warning: (2010) Misplaced global compiler switch, ignored\n",
      "/tf/neural-api/neural/neuralnetwork.inc(36,4) Warning: (2010) Misplaced global compiler switch, ignored\n",
      "(3104) Compiling /tf/neural-api/neural/neuralbit.pas\n",
      "/tf/neural-api/neural/neuralbit.pas(722,19) Hint: (5058) Variable \"VARS\" does not seem to be initialized\n",
      "/tf/neural-api/neural/neuralvolume.pas(540,31) Hint: (5024) Parameter \"x\" not used\n",
      "/tf/neural-api/neural/neuralvolume.pas(1984,37) Hint: (5058) Variable \"V\" does not seem to be initialized\n",
      "/tf/neural-api/neural/neuralvolume.pas(380,43) Hint: (5024) Parameter \"S\" not used\n",
      "/tf/neural-api/neural/neuralvolume.pas(2220,19) Hint: (5058) Variable \"pInput\" does not seem to be initialized\n",
      "/tf/neural-api/neural/neuralvolume.pas(2226,21) Hint: (5058) Variable \"Original\" does not seem to be initialized\n",
      "/tf/neural-api/neural/neuralvolume.pas(2244,27) Hint: (5058) Variable \"Original\" does not seem to be initialized\n",
      "/tf/neural-api/neural/neuralvolume.pas(3040,16) Hint: (5058) Variable \"Original\" does not seem to be initialized\n",
      "/tf/neural-api/neural/neuralvolume.pas(4420,3) Note: (5027) Local variable \"version\" is assigned but never used\n",
      "Hint: (3123) \"inherited\" not yet supported inside inline procedure/function\n",
      "Hint: (3124) Inlining disabled\n",
      "Hint: (3123) \"inherited\" not yet supported inside inline procedure/function\n",
      "Hint: (3124) Inlining disabled\n",
      "Hint: (3123) \"inherited\" not yet supported inside inline procedure/function\n",
      "Hint: (3124) Inlining disabled\n",
      "Hint: (3123) \"inherited\" not yet supported inside inline procedure/function\n",
      "Hint: (3124) Inlining disabled\n",
      "Hint: (3123) \"inherited\" not yet supported inside inline procedure/function\n",
      "Hint: (3124) Inlining disabled\n",
      "Hint: (3123) \"inherited\" not yet supported inside inline procedure/function\n",
      "Hint: (3124) Inlining disabled\n",
      "Hint: (3123) \"inherited\" not yet supported inside inline procedure/function\n",
      "Hint: (3124) Inlining disabled\n",
      "Hint: (3123) \"inherited\" not yet supported inside inline procedure/function\n",
      "Hint: (3124) Inlining disabled\n",
      "Hint: (3123) \"inherited\" not yet supported inside inline procedure/function\n",
      "Hint: (3124) Inlining disabled\n",
      "Hint: (3123) \"inherited\" not yet supported inside inline procedure/function\n",
      "Hint: (3124) Inlining disabled\n",
      "Hint: (3123) \"inherited\" not yet supported inside inline procedure/function\n",
      "Hint: (3124) Inlining disabled\n",
      "Hint: (3123) \"inherited\" not yet supported inside inline procedure/function\n",
      "Hint: (3124) Inlining disabled\n",
      "Hint: (3123) \"inherited\" not yet supported inside inline procedure/function\n",
      "Hint: (3124) Inlining disabled\n",
      "Hint: (3123) \"inherited\" not yet supported inside inline procedure/function\n",
      "Hint: (3124) Inlining disabled\n",
      "Hint: (3123) \"inherited\" not yet supported inside inline procedure/function\n",
      "Hint: (3124) Inlining disabled\n",
      "Hint: (3123) \"inherited\" not yet supported inside inline procedure/function\n",
      "Hint: (3124) Inlining disabled\n",
      "Hint: (3123) \"inherited\" not yet supported inside inline procedure/function\n",
      "Hint: (3124) Inlining disabled\n",
      "Hint: (3123) \"inherited\" not yet supported inside inline procedure/function\n",
      "Hint: (3124) Inlining disabled\n",
      "/tf/neural-api/neural/neuralnetwork.pas(5064,3) Note: (5027) Local variable \"Len\" is assigned but never used\n",
      "/tf/neural-api/neural/neuralnetwork.pas(7164,65) Warning: (5089) Local variable \"aL\" of a managed type does not seem to be initialized\n",
      "/tf/neural-api/neural/neuralnetwork.pas(7165,77) Warning: (5089) Local variable \"aIdx\" of a managed type does not seem to be initialized\n",
      "Hint: (3123) \"inherited\" not yet supported inside inline procedure/function\n",
      "Hint: (3124) Inlining disabled\n",
      "Hint: (3123) \"inherited\" not yet supported inside inline procedure/function\n",
      "Hint: (3124) Inlining disabled\n",
      "Hint: (3123) \"inherited\" not yet supported inside inline procedure/function\n",
      "Hint: (3124) Inlining disabled\n",
      "Hint: (3123) \"inherited\" not yet supported inside inline procedure/function\n",
      "Hint: (3124) Inlining disabled\n",
      "Hint: (3123) \"inherited\" not yet supported inside inline procedure/function\n",
      "Hint: (3124) Inlining disabled\n",
      "Hint: (3123) \"inherited\" not yet supported inside inline procedure/function\n",
      "Hint: (3124) Inlining disabled\n",
      "Hint: (3123) \"inherited\" not yet supported inside inline procedure/function\n",
      "Hint: (3124) Inlining disabled\n",
      "Hint: (3123) \"inherited\" not yet supported inside inline procedure/function\n",
      "Hint: (3124) Inlining disabled\n",
      "Hint: (3123) \"inherited\" not yet supported inside inline procedure/function\n",
      "Hint: (3124) Inlining disabled\n",
      "Hint: (3123) \"inherited\" not yet supported inside inline procedure/function\n",
      "Hint: (3124) Inlining disabled\n",
      "Hint: (3123) \"inherited\" not yet supported inside inline procedure/function\n",
      "Hint: (3124) Inlining disabled\n",
      "Hint: (3123) \"inherited\" not yet supported inside inline procedure/function\n",
      "Hint: (3124) Inlining disabled\n",
      "Hint: (3123) \"inherited\" not yet supported inside inline procedure/function\n",
      "Hint: (3124) Inlining disabled\n",
      "Hint: (3123) \"inherited\" not yet supported inside inline procedure/function\n",
      "Hint: (3124) Inlining disabled\n",
      "Hint: (3123) \"inherited\" not yet supported inside inline procedure/function\n",
      "Hint: (3124) Inlining disabled\n",
      "Hint: (3123) \"inherited\" not yet supported inside inline procedure/function\n",
      "Hint: (3124) Inlining disabled\n",
      "Hint: (3123) \"inherited\" not yet supported inside inline procedure/function\n",
      "Hint: (3124) Inlining disabled\n",
      "Hint: (3123) \"inherited\" not yet supported inside inline procedure/function\n",
      "Hint: (3124) Inlining disabled\n",
      "Hint: (3123) \"inherited\" not yet supported inside inline procedure/function\n",
      "Hint: (3124) Inlining disabled\n",
      "Hint: (3123) \"inherited\" not yet supported inside inline procedure/function\n",
      "Hint: (3124) Inlining disabled\n",
      "Hint: (3123) \"inherited\" not yet supported inside inline procedure/function\n",
      "Hint: (3124) Inlining disabled\n",
      "Hint: (3123) \"inherited\" not yet supported inside inline procedure/function\n",
      "Hint: (3124) Inlining disabled\n",
      "Hint: (3123) \"inherited\" not yet supported inside inline procedure/function\n",
      "Hint: (3124) Inlining disabled\n",
      "Hint: (3123) \"inherited\" not yet supported inside inline procedure/function\n",
      "Hint: (3124) Inlining disabled\n",
      "Hint: (3123) \"inherited\" not yet supported inside inline procedure/function\n",
      "Hint: (3124) Inlining disabled\n",
      "Hint: (3123) \"inherited\" not yet supported inside inline procedure/function\n",
      "Hint: (3124) Inlining disabled\n",
      "Hint: (3123) \"inherited\" not yet supported inside inline procedure/function\n",
      "Hint: (3124) Inlining disabled\n",
      "/tf/neural-api/neural/neuralnetwork.pas(87,28) Hint: (5023) Unit \"syncobjs\" not used in neuralnetwork\n",
      "(3104) Compiling /tf/neural-api/neural/neuraldatasets.pas\n",
      "(3104) Compiling /tf/neural-api/neural/neuralthread.pas\n",
      "Hint: (3123) \"inherited\" not yet supported inside inline procedure/function\n",
      "Hint: (3124) Inlining disabled\n",
      "Hint: (3123) \"inherited\" not yet supported inside inline procedure/function\n",
      "Hint: (3124) Inlining disabled\n",
      "Hint: (3123) \"inherited\" not yet supported inside inline procedure/function\n",
      "Hint: (3124) Inlining disabled\n",
      "Hint: (3123) \"inherited\" not yet supported inside inline procedure/function\n",
      "Hint: (3124) Inlining disabled\n",
      "Hint: (3123) \"inherited\" not yet supported inside inline procedure/function\n",
      "Hint: (3124) Inlining disabled\n",
      "Hint: (3123) \"inherited\" not yet supported inside inline procedure/function\n",
      "Hint: (3124) Inlining disabled\n",
      "Hint: (3123) \"inherited\" not yet supported inside inline procedure/function\n",
      "Hint: (3124) Inlining disabled\n",
      "Hint: (3123) \"inherited\" not yet supported inside inline procedure/function\n",
      "Hint: (3124) Inlining disabled\n",
      "Hint: (3123) \"inherited\" not yet supported inside inline procedure/function\n",
      "Hint: (3124) Inlining disabled\n",
      "/tf/neural-api/neural/neuraldatasets.pas(127,46) Hint: (5024) Parameter \"FolderName\" not used\n",
      "(3104) Compiling /tf/neural-api/neural/neuralfit.pas\n",
      "/tf/neural-api/neural/neuralfit.pas(235,48) Hint: (5024) Parameter \"ThreadId\" not used\n",
      "/tf/neural-api/neural/neuralfit.pas(236,46) Hint: (5024) Parameter \"ThreadId\" not used\n",
      "/tf/neural-api/neural/neuralfit.pas(237,48) Hint: (5024) Parameter \"ThreadId\" not used\n",
      "/tf/neural-api/neural/neuralfit.pas(238,44) Hint: (5024) Parameter \"ThreadId\" not used\n",
      "/tf/neural-api/neural/neuralfit.pas(191,32) Hint: (5024) Parameter \"Idx\" not used\n",
      "/tf/neural-api/neural/neuralfit.pas(191,46) Hint: (5024) Parameter \"ThreadId\" not used\n",
      "/tf/neural-api/neural/neuralfit.pas(192,48) Hint: (5024) Parameter \"ThreadId\" not used\n",
      "/tf/neural-api/neural/neuralfit.pas(193,42) Hint: (5024) Parameter \"ThreadId\" not used\n",
      "/tf/neural-api/neural/neuralfit.pas(166,36) Hint: (5024) Parameter \"threadnum\" not used\n",
      "/tf/neural-api/neural/neuralfit.pas(167,37) Hint: (5024) Parameter \"threadnum\" not used\n",
      "/tf/neural-api/neural/neuralfit.pas(223,36) Hint: (5024) Parameter \"threadnum\" not used\n",
      "/tf/neural-api/neural/neuralfit.pas(224,37) Hint: (5024) Parameter \"threadnum\" not used\n",
      "/tf/neural-api/examples/SuperResolution/SuperResolutionTrain.lpr(24,45) Hint: (5024) Parameter \"ThreadId\" not used\n",
      "/tf/neural-api/examples/SuperResolution/SuperResolutionTrain.lpr(25,47) Hint: (5024) Parameter \"ThreadId\" not used\n",
      "/tf/neural-api/examples/SuperResolution/SuperResolutionTrain.lpr(26,41) Hint: (5024) Parameter \"ThreadId\" not used\n",
      "/tf/neural-api/examples/SuperResolution/SuperResolutionTrain.lpr(12,60) Hint: (5023) Unit \"math\" not used in SuperResolutionTrain\n",
      "(9015) Linking /tf/neural-api/bin/x86_64-linux/bin/SuperResolutionTrain\n",
      "/usr/bin/ld.bfd: warning: /tf/neural-api/bin/x86_64-linux/bin/link.res contains output sections; did you forget -T?\n",
      "(1008) 25506 lines compiled, 2.2 sec\n",
      "(1021) 4 warning(s) issued\n",
      "(1022) 136 hint(s) issued\n",
      "(1023) 2 note(s) issued\n"
     ]
    }
   ],
   "source": [
    "!lazbuild neural-api/examples/SuperResolution/SuperResolutionTrain.lpi"
   ]
  },
  {
   "cell_type": "code",
   "execution_count": 14,
   "metadata": {},
   "outputs": [
    {
     "name": "stderr",
     "output_type": "stream",
     "text": [
      "Using TensorFlow backend.\n"
     ]
    }
   ],
   "source": [
    "import cai.layers\n",
    "import cai.datasets\n",
    "import cai.models"
   ]
  },
  {
   "cell_type": "code",
   "execution_count": 15,
   "metadata": {},
   "outputs": [
    {
     "name": "stdout",
     "output_type": "stream",
     "text": [
      "Downloading:  http://cs231n.stanford.edu/tiny-imagenet-200.zip  to  tiny-imagenet-200.zip\n",
      "Decompressing into:  download-tiny-imagenet-200\n"
     ]
    }
   ],
   "source": [
    "if (has_tiny_imagenet_200):\n",
    "    url_zip_file=\"http://cs231n.stanford.edu/tiny-imagenet-200.zip\"\n",
    "    local_zip_file=\"tiny-imagenet-200.zip\"\n",
    "    expected_folder_name=\"download-tiny-imagenet-200\"\n",
    "    Verbose=True\n",
    "    cai.datasets.download_zip_and_extract(\n",
    "        url_zip_file=url_zip_file, local_zip_file=local_zip_file, \n",
    "        expected_folder_name=expected_folder_name, Verbose=Verbose)\n",
    "    if os.path.isdir('download-tiny-imagenet-200/tiny-imagenet-200'):\n",
    "        !mv download-tiny-imagenet-200/tiny-imagenet-200 tiny-imagenet-200"
   ]
  },
  {
   "cell_type": "code",
   "execution_count": 16,
   "metadata": {},
   "outputs": [],
   "source": [
    "if (has_plant_leaf_disease):\n",
    "    url_zip_file=\"https://data.mendeley.com/datasets/tywbtsjrjv/1/files/d5652a28-c1d8-4b76-97f3-72fb80f94efc/Plant_leaf_diseases_dataset_without_augmentation.zip?dl=1\"\n",
    "    local_zip_file=\"plant_leaf.zip\"\n",
    "    expected_folder_name=\"plant_leaf\"\n",
    "    Verbose=True\n",
    "    cai.datasets.download_zip_and_extract(\n",
    "        url_zip_file=url_zip_file, local_zip_file=local_zip_file, \n",
    "        expected_folder_name=expected_folder_name, Verbose=Verbose)\n",
    "    if os.path.isdir('plant_leaf/Plant_leave_diseases_dataset_without_augmentation'):\n",
    "        !mv plant_leaf/Plant_leave_diseases_dataset_without_augmentation plant"
   ]
  },
  {
   "cell_type": "code",
   "execution_count": 22,
   "metadata": {},
   "outputs": [
    {
     "name": "stdout",
     "output_type": "stream",
     "text": [
      "RUNNING: SimpleTinyImageNet\n",
      "Creating Neural Network...\n",
      " Layers: 10\n",
      " Neurons:115\n",
      " Weights:14304 Sum:  -96.013763\n",
      "Layer  0 Neurons:   0 Weights:     0 TNNetInput(32,32,3,0,0) Output:32,32,3 Learning Rate:0.0100 Inertia:0.90 Weight Sum:  0.0000 Branches:1\n",
      "Layer  1 Neurons:   0 Weights:     0 TNNetDeAvgPool(2,2,0,0,0) Output:64,64,3 Learning Rate:0.0100 Inertia:0.90 Weight Sum:  0.0000 Parent:0 Branches:1\n",
      "Layer  2 Neurons:  16 Weights:   432 TNNetConvolutionReLU(16,3,1,0,0) Output:64,64,16 Learning Rate:0.0100 Inertia:0.90 Weight Sum:  2.8440 Parent:1 Branches:1\n",
      "Layer  3 Neurons:  16 Weights:  2304 TNNetConvolutionReLU(16,3,1,0,0) Output:64,64,16 Learning Rate:0.0100 Inertia:0.90 Weight Sum: -0.7133 Parent:2 Branches:1\n",
      "Layer  4 Neurons:  16 Weights:  2304 TNNetConvolutionReLU(16,3,1,0,0) Output:64,64,16 Learning Rate:0.0100 Inertia:0.90 Weight Sum: -7.4469 Parent:3 Branches:1\n",
      "Layer  5 Neurons:  16 Weights:  2304 TNNetConvolutionReLU(16,3,1,0,0) Output:64,64,16 Learning Rate:0.0100 Inertia:0.90 Weight Sum: -9.1171 Parent:4 Branches:1\n",
      "Layer  6 Neurons:  16 Weights:  2304 TNNetConvolutionReLU(16,3,1,0,0) Output:64,64,16 Learning Rate:0.0100 Inertia:0.90 Weight Sum: -8.3010 Parent:5 Branches:1\n",
      "Layer  7 Neurons:  16 Weights:  2304 TNNetConvolutionReLU(16,3,1,0,0) Output:64,64,16 Learning Rate:0.0100 Inertia:0.90 Weight Sum:-20.4457 Parent:6 Branches:1\n",
      "Layer  8 Neurons:  16 Weights:  2304 TNNetConvolutionReLU(16,3,1,0,0) Output:64,64,16 Learning Rate:0.0100 Inertia:0.90 Weight Sum:-58.3820 Parent:7 Branches:1\n",
      "Layer  9 Neurons:   3 Weights:    48 TNNetConvolutionLinear(3,1,0,0,0) Output:64,64,3 Learning Rate:0.0100 Inertia:0.90 Weight Sum:  5.5482 Parent:8 Branches:0\n",
      "Loading 100% of the Tiny ImageNet 200 dataset into memory.\n",
      "^C\n"
     ]
    }
   ],
   "source": [
    "if os.path.isdir('tiny-imagenet-200'):\n",
    "  print(\"RUNNING: SimpleTinyImageNet\")\n",
    "  !neural-api/bin/x86_64-linux/bin/SuperResolutionTrain"
   ]
  },
  {
   "cell_type": "code",
   "execution_count": null,
   "metadata": {},
   "outputs": [],
   "source": []
  }
 ],
 "metadata": {
  "kernelspec": {
   "display_name": "Python 3",
   "language": "python",
   "name": "python3"
  },
  "language_info": {
   "codemirror_mode": {
    "name": "ipython",
    "version": 3
   },
   "file_extension": ".py",
   "mimetype": "text/x-python",
   "name": "python",
   "nbconvert_exporter": "python",
   "pygments_lexer": "ipython3",
   "version": "3.6.9"
  }
 },
 "nbformat": 4,
 "nbformat_minor": 2
}
